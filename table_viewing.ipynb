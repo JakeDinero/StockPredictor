{
 "cells": [
  {
   "cell_type": "code",
   "execution_count": 13,
   "metadata": {},
   "outputs": [],
   "source": [
    "import pandas as pd\n",
    "df = pd.read_csv('us-shareprices-daily.csv', sep=\";\")"
   ]
  },
  {
   "cell_type": "code",
   "execution_count": 15,
   "metadata": {},
   "outputs": [
    {
     "name": "stdout",
     "output_type": "stream",
     "text": [
      "  Ticker  SimFinId        Date    Open     Low    High   Close  Adj. Close  \\\n",
      "0   GOOG        18  2014-03-27  568.00  552.92  568.00  558.46      558.46   \n",
      "1   GOOG        18  2014-03-28  561.20  558.67  566.43  559.99      559.99   \n",
      "2   GOOG        18  2014-03-31  566.89  556.93  567.00  556.97      556.97   \n",
      "3   GOOG        18  2014-04-01  558.71  558.71  568.45  567.16      567.16   \n",
      "4   GOOG        18  2014-04-02  565.11  562.19  604.83  567.00      567.00   \n",
      "\n",
      "   Dividend  Volume  Shares Outstanding  \n",
      "0       NaN   13100         336050831.0  \n",
      "1       NaN   41100         336050831.0  \n",
      "2       NaN   10800         674462000.0  \n",
      "3       NaN    7900         674462000.0  \n",
      "4       NaN  146700         674462000.0  \n"
     ]
    }
   ],
   "source": [
    "# print(df.columns)\n",
    "\n",
    "# print(df.head())\n",
    "\n",
    "# print(df.loc[df['Ticker'] == 'GOOG'])"
   ]
  },
  {
   "cell_type": "code",
   "execution_count": 19,
   "metadata": {},
   "outputs": [
    {
     "name": "stdout",
     "output_type": "stream",
     "text": [
      "0    568.0\n",
      "Name: Open, dtype: float64\n"
     ]
    }
   ],
   "source": [
    "print(df.loc[(df['Ticker'] == 'GOOG') & (df['Date'] == '2014-03-27')]['Open'])"
   ]
  },
  {
   "cell_type": "code",
   "execution_count": 24,
   "metadata": {},
   "outputs": [
    {
     "name": "stdout",
     "output_type": "stream",
     "text": [
      "763091    17.87\n",
      "Name: Open, dtype: float64\n"
     ]
    }
   ],
   "source": [
    "print(df.loc[(df['Ticker'] == 'EBAY') &  (df['Date'] == '2009-06-01')]['Open'])"
   ]
  },
  {
   "cell_type": "code",
   "execution_count": null,
   "metadata": {},
   "outputs": [],
   "source": []
  }
 ],
 "metadata": {
  "kernelspec": {
   "display_name": "Python 3",
   "language": "python",
   "name": "python3"
  },
  "language_info": {
   "codemirror_mode": {
    "name": "ipython",
    "version": 3
   },
   "file_extension": ".py",
   "mimetype": "text/x-python",
   "name": "python",
   "nbconvert_exporter": "python",
   "pygments_lexer": "ipython3",
   "version": "3.8.3"
  }
 },
 "nbformat": 4,
 "nbformat_minor": 4
}
